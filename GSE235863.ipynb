{
 "cells": [
  {
   "cell_type": "code",
   "execution_count": 1,
   "id": "7e481a71",
   "metadata": {},
   "outputs": [
    {
     "name": "stderr",
     "output_type": "stream",
     "text": [
      "/tmp/ipykernel_571378/3176963012.py:8: FutureWarning: Use anndata.concat instead of AnnData.concatenate, AnnData.concatenate is deprecated and will be removed in the future. See the tutorial for concat at: https://anndata.readthedocs.io/en/latest/concatenation.html\n",
      "  adata_merged = adata_cd8t.concatenate(\n"
     ]
    },
    {
     "name": "stdout",
     "output_type": "stream",
     "text": [
      "AnnData object with n_obs × n_vars = 286843 × 26014\n",
      "    obs: 'sample', 'tissue', 'patient', 'n_genes_by_counts', 'total_counts', 'total_counts_rp', 'pct_counts_rp', 'total_counts_mt', 'pct_counts_mt', 'total_counts_hb', 'pct_counts_hb', 'total_counts_hsp', 'pct_counts_hsp', 'doublet_scores', 'predicted_doublets', 'doublet_info', 'n_genes', 'S_score', 'G2M_score', 'phase', 'UMAP_1', 'UMAP_2', 'sub_cluster', 'major_cluster', 'dataset'\n",
      "    var: 'gene_ids', 'feature_types', 'genome', 'mt', 'rp', 'hb', 'IG', 'TCR', 'CC', 'hsp', 'n_cells_by_counts-cd45', 'mean_counts-cd45', 'pct_dropout_by_counts-cd45', 'total_counts-cd45', 'n_cells-cd45', 'exclude-cd45', 'n_cells_by_counts-cd8t', 'mean_counts-cd8t', 'pct_dropout_by_counts-cd8t', 'total_counts-cd8t', 'n_cells-cd8t', 'exclude-cd8t'\n"
     ]
    }
   ],
   "source": [
    "import scanpy as sc\n",
    "\n",
    "# 读入两个 h5ad\n",
    "adata_cd8t = sc.read_h5ad(\"/mnt/data/wangw/AFS/赵路晴/new_data/GSE235863/GSE235863_five_patients_scRNAseq_cd8t_raw_counts.h5ad\")\n",
    "adata_cd45 = sc.read_h5ad(\"/mnt/data/wangw/AFS/赵路晴/new_data/GSE235863/GSE235863_nine_patients_scRNAseq_cd45_raw_counts.h5ad\")\n",
    "\n",
    "# 合并\n",
    "adata_merged = adata_cd8t.concatenate(\n",
    "    adata_cd45,\n",
    "    batch_key=\"dataset\",             # 给不同数据集加一个批次标签\n",
    "    batch_categories=[\"cd8t\", \"cd45\"]  # 两个来源的名字\n",
    ")\n",
    "\n",
    "print(adata_merged)"
   ]
  },
  {
   "cell_type": "code",
   "execution_count": 9,
   "id": "299a2f0b",
   "metadata": {},
   "outputs": [
    {
     "data": {
      "text/plain": [
       "(np.int32(500), np.int32(5999))"
      ]
     },
     "execution_count": 9,
     "metadata": {},
     "output_type": "execute_result"
    }
   ],
   "source": [
    "adata_cd8t.obs['n_genes_by_counts'].min(),adata_cd8t.obs['n_genes_by_counts'].max()"
   ]
  },
  {
   "cell_type": "code",
   "execution_count": 11,
   "id": "1eb17f81",
   "metadata": {},
   "outputs": [
    {
     "data": {
      "text/plain": [
       "np.float32(596.0)"
      ]
     },
     "execution_count": 11,
     "metadata": {},
     "output_type": "execute_result"
    }
   ],
   "source": [
    "adata_cd8t.obs['total_counts'].min()"
   ]
  },
  {
   "cell_type": "code",
   "execution_count": 7,
   "id": "8ba6b2c6",
   "metadata": {},
   "outputs": [
    {
     "data": {
      "text/plain": [
       "np.float32(0.0)"
      ]
     },
     "execution_count": 7,
     "metadata": {},
     "output_type": "execute_result"
    }
   ],
   "source": [
    "adata_cd8t.obs['pct_counts_mt'].min()"
   ]
  },
  {
   "cell_type": "code",
   "execution_count": 8,
   "id": "14f95709",
   "metadata": {},
   "outputs": [
    {
     "data": {
      "text/plain": [
       "np.float32(19.935345)"
      ]
     },
     "execution_count": 8,
     "metadata": {},
     "output_type": "execute_result"
    }
   ],
   "source": [
    "adata_cd8t.obs['pct_counts_mt'].max()"
   ]
  }
 ],
 "metadata": {
  "kernelspec": {
   "display_name": "model_afs",
   "language": "python",
   "name": "python3"
  },
  "language_info": {
   "codemirror_mode": {
    "name": "ipython",
    "version": 3
   },
   "file_extension": ".py",
   "mimetype": "text/x-python",
   "name": "python",
   "nbconvert_exporter": "python",
   "pygments_lexer": "ipython3",
   "version": "3.11.13"
  }
 },
 "nbformat": 4,
 "nbformat_minor": 5
}
